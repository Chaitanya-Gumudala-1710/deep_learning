{
  "nbformat": 4,
  "nbformat_minor": 0,
  "metadata": {
    "colab": {
      "provenance": [],
      "gpuType": "T4",
      "authorship_tag": "ABX9TyPp+iAPT6DBZcE/0fLHeRJ9",
      "include_colab_link": true
    },
    "kernelspec": {
      "name": "python3",
      "display_name": "Python 3"
    },
    "language_info": {
      "name": "python"
    },
    "accelerator": "GPU"
  },
  "cells": [
    {
      "cell_type": "markdown",
      "metadata": {
        "id": "view-in-github",
        "colab_type": "text"
      },
      "source": [
        "<a href=\"https://colab.research.google.com/github/Chaitanya-Gumudala-1710/deep_learning/blob/main/image_classification_using_CNN.ipynb\" target=\"_parent\"><img src=\"https://colab.research.google.com/assets/colab-badge.svg\" alt=\"Open In Colab\"/></a>"
      ]
    },
    {
      "cell_type": "code",
      "execution_count": 1,
      "metadata": {
        "id": "h_Pvdv-CjBf6"
      },
      "outputs": [],
      "source": [
        "import numpy as np\n",
        "import tensorflow as tf\n",
        "from tensorflow.keras import datasets, layers, models\n",
        "import matplotlib.pyplot as plt"
      ]
    },
    {
      "cell_type": "code",
      "source": [
        "(X_train, y_train), (X_test, y_test) = datasets.cifar10.load_data()"
      ],
      "metadata": {
        "id": "wgFfB5HwjnuD"
      },
      "execution_count": 2,
      "outputs": []
    },
    {
      "cell_type": "code",
      "source": [
        "classes = [\"airplane\", \"automobile\", \"bird\", \"cat\", \"deer\", \"dog\", \"frog\", \"horse\", \"ship\", \"truck\"]"
      ],
      "metadata": {
        "id": "NkJZROvtjxzg"
      },
      "execution_count": 3,
      "outputs": []
    },
    {
      "cell_type": "code",
      "source": [
        "X_train = X_train / 255\n",
        "X_test = X_test / 255"
      ],
      "metadata": {
        "id": "eyXjy4jukQeF"
      },
      "execution_count": 4,
      "outputs": []
    },
    {
      "cell_type": "code",
      "source": [
        "cnn = models.Sequential([\n",
        "    layers.Conv2D(filters=32, activation='relu', kernel_size=(3, 3), input_shape=(32, 32, 3)),\n",
        "    layers.MaxPool2D((2, 2)),\n",
        "    layers.Conv2D(filters=64, activation='relu', kernel_size=(3, 3)),\n",
        "    layers.MaxPool2D((2, 2)),\n",
        "    layers.Flatten(),\n",
        "    layers.Dense(64, activation='relu'),\n",
        "    layers.Dense(10, activation='softmax')\n",
        "])"
      ],
      "metadata": {
        "id": "i-Zuuo1DlWDW"
      },
      "execution_count": 5,
      "outputs": []
    },
    {
      "cell_type": "code",
      "source": [
        "cnn.compile(optimizer='adam',\n",
        "            loss='sparse_categorical_crossentropy',\n",
        "            metrics=['accuracy'])"
      ],
      "metadata": {
        "id": "0OnCpvjOmn_-"
      },
      "execution_count": 6,
      "outputs": []
    },
    {
      "cell_type": "code",
      "source": [
        "cnn.fit(X_train, y_train, epochs=25)"
      ],
      "metadata": {
        "colab": {
          "base_uri": "https://localhost:8080/"
        },
        "id": "KMNWU8R1m6h5",
        "outputId": "5f056363-d6d6-47fb-d28d-55c9133a156a"
      },
      "execution_count": 7,
      "outputs": [
        {
          "output_type": "stream",
          "name": "stdout",
          "text": [
            "Epoch 1/25\n",
            "1563/1563 [==============================] - 15s 6ms/step - loss: 1.4417 - accuracy: 0.4798\n",
            "Epoch 2/25\n",
            "1563/1563 [==============================] - 7s 5ms/step - loss: 1.0930 - accuracy: 0.6193\n",
            "Epoch 3/25\n",
            "1563/1563 [==============================] - 7s 5ms/step - loss: 0.9703 - accuracy: 0.6602\n",
            "Epoch 4/25\n",
            "1563/1563 [==============================] - 6s 4ms/step - loss: 0.8791 - accuracy: 0.6957\n",
            "Epoch 5/25\n",
            "1563/1563 [==============================] - 7s 5ms/step - loss: 0.8072 - accuracy: 0.7179\n",
            "Epoch 6/25\n",
            "1563/1563 [==============================] - 6s 4ms/step - loss: 0.7487 - accuracy: 0.7402\n",
            "Epoch 7/25\n",
            "1563/1563 [==============================] - 7s 5ms/step - loss: 0.6980 - accuracy: 0.7569\n",
            "Epoch 8/25\n",
            "1563/1563 [==============================] - 7s 4ms/step - loss: 0.6535 - accuracy: 0.7726\n",
            "Epoch 9/25\n",
            "1563/1563 [==============================] - 7s 4ms/step - loss: 0.6085 - accuracy: 0.7834\n",
            "Epoch 10/25\n",
            "1563/1563 [==============================] - 7s 4ms/step - loss: 0.5718 - accuracy: 0.7988\n",
            "Epoch 11/25\n",
            "1563/1563 [==============================] - 6s 4ms/step - loss: 0.5342 - accuracy: 0.8107\n",
            "Epoch 12/25\n",
            "1563/1563 [==============================] - 7s 4ms/step - loss: 0.4969 - accuracy: 0.8245\n",
            "Epoch 13/25\n",
            "1563/1563 [==============================] - 6s 4ms/step - loss: 0.4654 - accuracy: 0.8336\n",
            "Epoch 14/25\n",
            "1563/1563 [==============================] - 7s 5ms/step - loss: 0.4302 - accuracy: 0.8470\n",
            "Epoch 15/25\n",
            "1563/1563 [==============================] - 6s 4ms/step - loss: 0.3988 - accuracy: 0.8575\n",
            "Epoch 16/25\n",
            "1563/1563 [==============================] - 7s 5ms/step - loss: 0.3716 - accuracy: 0.8676\n",
            "Epoch 17/25\n",
            "1563/1563 [==============================] - 6s 4ms/step - loss: 0.3479 - accuracy: 0.8753\n",
            "Epoch 18/25\n",
            "1563/1563 [==============================] - 7s 4ms/step - loss: 0.3234 - accuracy: 0.8828\n",
            "Epoch 19/25\n",
            "1563/1563 [==============================] - 6s 4ms/step - loss: 0.2988 - accuracy: 0.8937\n",
            "Epoch 20/25\n",
            "1563/1563 [==============================] - 7s 5ms/step - loss: 0.2799 - accuracy: 0.8990\n",
            "Epoch 21/25\n",
            "1563/1563 [==============================] - 6s 4ms/step - loss: 0.2583 - accuracy: 0.9062\n",
            "Epoch 22/25\n",
            "1563/1563 [==============================] - 7s 4ms/step - loss: 0.2462 - accuracy: 0.9117\n",
            "Epoch 23/25\n",
            "1563/1563 [==============================] - 7s 4ms/step - loss: 0.2219 - accuracy: 0.9201\n",
            "Epoch 24/25\n",
            "1563/1563 [==============================] - 7s 4ms/step - loss: 0.2097 - accuracy: 0.9250\n",
            "Epoch 25/25\n",
            "1563/1563 [==============================] - 7s 4ms/step - loss: 0.2051 - accuracy: 0.9258\n"
          ]
        },
        {
          "output_type": "execute_result",
          "data": {
            "text/plain": [
              "<keras.src.callbacks.History at 0x79dff16dc7f0>"
            ]
          },
          "metadata": {},
          "execution_count": 7
        }
      ]
    },
    {
      "cell_type": "code",
      "source": [
        "cnn.evaluate(X_test, y_test)"
      ],
      "metadata": {
        "id": "5q5EwftFnCDd",
        "colab": {
          "base_uri": "https://localhost:8080/"
        },
        "outputId": "3cfa4550-deb9-42fd-e5ef-d2c143d44edd"
      },
      "execution_count": 8,
      "outputs": [
        {
          "output_type": "stream",
          "name": "stdout",
          "text": [
            "313/313 [==============================] - 1s 3ms/step - loss: 1.6922 - accuracy: 0.6714\n"
          ]
        },
        {
          "output_type": "execute_result",
          "data": {
            "text/plain": [
              "[1.6922218799591064, 0.6714000105857849]"
            ]
          },
          "metadata": {},
          "execution_count": 8
        }
      ]
    },
    {
      "cell_type": "code",
      "source": [
        "from sklearn.metrics import confusion_matrix, classification_report"
      ],
      "metadata": {
        "id": "AZGXRJhLoiTF"
      },
      "execution_count": 9,
      "outputs": []
    },
    {
      "cell_type": "code",
      "source": [
        "y_predict = cnn.predict(X_test)"
      ],
      "metadata": {
        "colab": {
          "base_uri": "https://localhost:8080/"
        },
        "id": "7mGSYO-xosjB",
        "outputId": "c001830e-52b3-47ef-8af4-c64760f98eb7"
      },
      "execution_count": 10,
      "outputs": [
        {
          "output_type": "stream",
          "name": "stdout",
          "text": [
            "313/313 [==============================] - 1s 2ms/step\n"
          ]
        }
      ]
    },
    {
      "cell_type": "code",
      "source": [
        "y_test = y_test.reshape(-1, )"
      ],
      "metadata": {
        "id": "oYSoWsr1pCy2"
      },
      "execution_count": 11,
      "outputs": []
    },
    {
      "cell_type": "code",
      "source": [
        "y_classes = [np.argmax(element) for element in y_predict]"
      ],
      "metadata": {
        "id": "ITVqqQWXo5NF"
      },
      "execution_count": 12,
      "outputs": []
    },
    {
      "cell_type": "code",
      "source": [
        "print(classification_report(y_test, y_classes))"
      ],
      "metadata": {
        "colab": {
          "base_uri": "https://localhost:8080/"
        },
        "id": "KSXyI4IVpMgk",
        "outputId": "e677a4c4-55f8-48e9-fe32-2497cb76597e"
      },
      "execution_count": 13,
      "outputs": [
        {
          "output_type": "stream",
          "name": "stdout",
          "text": [
            "              precision    recall  f1-score   support\n",
            "\n",
            "           0       0.77      0.58      0.66      1000\n",
            "           1       0.82      0.78      0.80      1000\n",
            "           2       0.55      0.60      0.57      1000\n",
            "           3       0.47      0.51      0.49      1000\n",
            "           4       0.58      0.63      0.60      1000\n",
            "           5       0.57      0.62      0.59      1000\n",
            "           6       0.74      0.75      0.75      1000\n",
            "           7       0.74      0.71      0.72      1000\n",
            "           8       0.73      0.83      0.78      1000\n",
            "           9       0.84      0.70      0.77      1000\n",
            "\n",
            "    accuracy                           0.67     10000\n",
            "   macro avg       0.68      0.67      0.67     10000\n",
            "weighted avg       0.68      0.67      0.67     10000\n",
            "\n"
          ]
        }
      ]
    }
  ]
}